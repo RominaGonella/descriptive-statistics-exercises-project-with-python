{
    "cells": [
        {
            "cell_type": "markdown",
            "id": "ac622319",
            "metadata": {},
            "source": [
                "# Descriptive Statistics Problems"
            ]
        },
        {
            "cell_type": "markdown",
            "id": "aa8993e4",
            "metadata": {},
            "source": [
                "### Exercise 1"
            ]
        },
        {
            "cell_type": "markdown",
            "id": "5e0ab0d5",
            "metadata": {},
            "source": [
                "As right now, you are familliar with numpy, we are going to use numpy to get some data statistics.\n",
                "\n",
                "First, lets create an array of 20 elements distributed normally (Gaussian):\n",
                "\n",
                "Use the np.random.normal function to create some data, using 0,1,20 as parameters because we want a one dimentional array of 20 numbers distributed normally (Gaussian)"
            ]
        },
        {
            "cell_type": "code",
            "execution_count": 1,
            "id": "34720ab6",
            "metadata": {},
            "outputs": [
                {
                    "name": "stdout",
                    "output_type": "stream",
                    "text": [
                        "[-1.15035773  0.85362924 -1.13243057 -0.38924662 -0.29184348 -0.02099995\n",
                        "  1.09728223  0.58555509 -0.60596735  0.96451346  0.53102032  1.32123756\n",
                        " -0.49268179  1.78941286  0.76074151  0.80098116 -0.193445    0.97207897\n",
                        " -0.94965015  0.28380233]\n"
                    ]
                }
            ],
            "source": [
                "#import libraries\n",
                "import numpy as np\n",
                "\n",
                "# Set seed in order to get similar results\n",
                "np.random.seed(2905)\n",
                "\n",
                "# create the data\n",
                "norm = np.random.normal(0,1,20)\n",
                "\n",
                "#print results\n",
                "print(norm)"
            ]
        },
        {
            "cell_type": "code",
            "execution_count": 5,
            "id": "49c55822",
            "metadata": {},
            "outputs": [
                {
                    "name": "stdout",
                    "output_type": "stream",
                    "text": [
                        "0.2366816054060475\n"
                    ]
                }
            ],
            "source": [
                "#Use numpy to get the mean of your data\n",
                "norm_mean = np.mean(norm)\n",
                "print(norm_mean)"
            ]
        },
        {
            "cell_type": "code",
            "execution_count": 6,
            "id": "03529459",
            "metadata": {},
            "outputs": [
                {
                    "name": "stdout",
                    "output_type": "stream",
                    "text": [
                        "0.6976487242206916\n"
                    ]
                }
            ],
            "source": [
                "#get the variance of your data\n",
                "norm_var = np.var(norm)\n",
                "print(norm_var)"
            ]
        },
        {
            "cell_type": "code",
            "execution_count": 7,
            "id": "e53f30c5",
            "metadata": {},
            "outputs": [
                {
                    "name": "stdout",
                    "output_type": "stream",
                    "text": [
                        "0.8352536885406083\n"
                    ]
                }
            ],
            "source": [
                "# Standard deviation\n",
                "norm_sd = np.std(norm)\n",
                "print(norm_sd)"
            ]
        },
        {
            "cell_type": "code",
            "execution_count": 18,
            "id": "9bce852f",
            "metadata": {},
            "outputs": [
                {
                    "name": "stdout",
                    "output_type": "stream",
                    "text": [
                        "-1.1503577291743259\n",
                        "[-1.15035773  0.85362924 -1.13243057 -0.38924662 -0.29184348 -0.02099995\n",
                        "  1.09728223  0.58555509 -0.60596735  0.96451346  0.53102032  1.32123756\n",
                        " -0.49268179  1.78941286  0.76074151  0.80098116 -0.193445    0.97207897\n",
                        " -0.94965015  0.28380233]\n",
                        "la nueva moda es: 1.8510551493563332\n"
                    ]
                },
                {
                    "data": {
                        "image/png": "[encoded data removed]",
                        "text/plain": [
                            "<Figure size 432x288 with 1 Axes>"
                        ]
                    },
                    "metadata": {
                        "needs_background": "light"
                    },
                    "output_type": "display_data"
                }
            ],
            "source": [
                "#import libraries and print the mode\n",
                "import statistics as st\n",
                "import matplotlib.pyplot as plt\n",
                "\n",
                "# Mode for continuous array\n",
                "norm_mode = st.mode(norm)\n",
                "print(norm_mode) # devuelve el primer valor de la serie (pasa lo mismo para series más grandes), no es la moda!!\n",
                "print(norm)\n",
                "\n",
                "# pruebo serie mayor\n",
                "norm2 = np.random.normal(0,1,200)\n",
                "plt.hist(norm2)\n",
                "print('la nueva moda es: ' + str(st.mode(norm2))) ## tampoco es la moda!!!!\n"
            ]
        },
        {
            "cell_type": "code",
            "execution_count": 19,
            "id": "c682cb6e",
            "metadata": {},
            "outputs": [
                {
                    "name": "stdout",
                    "output_type": "stream",
                    "text": [
                        "0.4074113227192453\n"
                    ]
                }
            ],
            "source": [
                "# Median\n",
                "norm_median = st.median(norm)\n",
                "print(norm_median)"
            ]
        },
        {
            "cell_type": "code",
            "execution_count": 23,
            "id": "39c3fabd",
            "metadata": {},
            "outputs": [
                {
                    "name": "stdout",
                    "output_type": "stream",
                    "text": [
                        "[-0.41510541  0.40741132  0.88135029]\n"
                    ]
                }
            ],
            "source": [
                "# Print the Quantiles\n",
                "print(np.quantile(norm, [0.25,0.5,0.75]))\n",
                "\n",
                "# This match with np.median, why?\n"
            ]
        },
        {
            "cell_type": "markdown",
            "id": "46c70c3d",
            "metadata": {},
            "source": [
                "### Exercise 2\n",
                "\n",
                "Write a Python program to calculate the standard deviation of the following data:\n",
                "```py\n",
                "data = [4, 2, 5, 8, 6]\n",
                "```"
            ]
        },
        {
            "cell_type": "code",
            "execution_count": 35,
            "id": "d590308e",
            "metadata": {},
            "outputs": [
                {
                    "name": "stdout",
                    "output_type": "stream",
                    "text": [
                        "[4, 2, 5, 8, 6]\n",
                        "5.0\n",
                        "2.0\n",
                        "5\n"
                    ]
                }
            ],
            "source": [
                "import math\n",
                "import sys\n",
                "\n",
                "# Define the standard deviation function\n",
                "\n",
                "def sd_calc(data):\n",
                "    #code here\n",
                "    m = avg_calc(data)\n",
                "    # calculate stan. dev.\n",
                "    return math.sqrt(np.mean([(i - m)**2 for i in data]))\n",
                "\n",
                "# Define the average function\n",
                "\n",
                "def avg_calc(ls):\n",
                "    #code here\n",
                "    n = len(ls)\n",
                "    # calculate average\n",
                "    return np.sum(ls)/n\n",
                "    \n",
                "data = [4, 2, 5, 8, 6]\n",
                "\n",
                "#print the data\n",
                "print(data)\n",
                "\n",
                "# imprimo media para chequear\n",
                "print(avg_calc(data))\n",
                "\n",
                "#print the standard deviation of the data\n",
                "print(sd_calc(data))"
            ]
        },
        {
            "cell_type": "markdown",
            "id": "04b71791",
            "metadata": {},
            "source": [
                "Source:\n",
                "\n",
                "https://www.w3resource.com/"
            ]
        }
    ],
    "metadata": {
        "kernelspec": {
            "display_name": "Python 3.8.13 64-bit ('3.8.13')",
            "language": "python",
            "name": "python3"
        },
        "language_info": {
            "codemirror_mode": {
                "name": "ipython",
                "version": 3
            },
            "file_extension": ".py",
            "mimetype": "text/x-python",
            "name": "python",
            "nbconvert_exporter": "python",
            "pygments_lexer": "ipython3",
            "version": "3.8.13"
        },
        "vscode": {
            "interpreter": {
                "hash": "110cc1dee26208153f2972f08a2ad52b6a56238dc66d48e87fb757ef2996db56"
            }
        }
    },
    "nbformat": 4,
    "nbformat_minor": 5
}
